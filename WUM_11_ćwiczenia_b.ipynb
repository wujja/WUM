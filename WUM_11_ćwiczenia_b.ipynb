{
  "cells": [
    {
      "cell_type": "markdown",
      "metadata": {
        "id": "hCRi2a07MZBW"
      },
      "source": [
        "## Szeregi czasowe i sieci neuronowe\n",
        "Utwórz 3 rodzaje sieci\n",
        "\n",
        "(part1) - poprzednie ćwiczenia\n",
        "- sieć gęsta\n",
        "- sieć konwolucyjna\n",
        "\n",
        "(part2) - 1 punkty projektowe\n",
        "- Sieć rekurencyjna\n",
        "\n",
        "\n",
        "(part3) - 2 punkty\n",
        "\n",
        "RNN dla danych tekstowych"
      ]
    },
    {
      "cell_type": "markdown",
      "metadata": {
        "id": "rw0MAc6YLhA9"
      },
      "source": [
        "\n",
        "\n",
        "**Problemem do rozwiązania jest predykcja temperatury powietrza za  24 godziny (1 wartość) w mieście Jena**\n",
        "\n",
        "\n",
        "Pobierz dane. (Orygianlne źródło danych:\n",
        "www.bgc-jena.mpg.de/wetter )\n",
        "\n",
        "Dane zawierają 14 różnych wartości, które były mierzone co 10 minut w latach 2009-2016\n",
        "\n"
      ]
    },
    {
      "cell_type": "code",
      "execution_count": 3,
      "metadata": {
        "colab": {
          "base_uri": "https://localhost:8080/"
        },
        "id": "QOJyMGXOK17_",
        "outputId": "cbbab328-bfd1-4464-92e3-7d294ef16827"
      },
      "outputs": [],
      "source": [
        "# !wget https://s3.amazonaws.com/keras-datasets/jena_climate_2009_2016.csv.zip\n",
        "# !unzip jena_climate_2009_2016.csv.zip\n"
      ]
    },
    {
      "cell_type": "code",
      "execution_count": 4,
      "metadata": {
        "colab": {
          "base_uri": "https://localhost:8080/"
        },
        "id": "oX809Bf6bWkY",
        "outputId": "2229d33d-3f69-4c13-c371-022ff1bc38f4"
      },
      "outputs": [
        {
          "name": "stdout",
          "output_type": "stream",
          "text": [
            "['\"Date Time\"', '\"p (mbar)\"', '\"T (degC)\"', '\"Tpot (K)\"', '\"Tdew (degC)\"', '\"rh (%)\"', '\"VPmax (mbar)\"', '\"VPact (mbar)\"', '\"VPdef (mbar)\"', '\"sh (g/kg)\"', '\"H2OC (mmol/mol)\"', '\"rho (g/m**3)\"', '\"wv (m/s)\"', '\"max. wv (m/s)\"', '\"wd (deg)\"']\n",
            "420451\n"
          ]
        },
        {
          "data": {
            "text/plain": [
              "array([ 9.96520e+02, -8.02000e+00,  2.65400e+02, -8.90000e+00,\n",
              "        9.33000e+01,  3.33000e+00,  3.11000e+00,  2.20000e-01,\n",
              "        1.94000e+00,  3.12000e+00,  1.30775e+03,  1.03000e+00,\n",
              "        1.75000e+00,  1.52300e+02])"
            ]
          },
          "execution_count": 4,
          "metadata": {},
          "output_type": "execute_result"
        }
      ],
      "source": [
        "import os\n",
        "fname = os.path.join(\"jena_climate_2009_2016.csv\")\n",
        "\n",
        "with open(fname) as f:\n",
        "    data = f.read()\n",
        "\n",
        "lines = data.split(\"\\n\")\n",
        "header = lines[0].split(\",\")\n",
        "lines = lines[1:]\n",
        "print(header)\n",
        "print(len(lines))\n",
        "\n",
        "\n",
        "     \n",
        "# Parsing the data\n",
        "\n",
        "\n",
        "import numpy as np \n",
        "temperature = np.zeros((len(lines),))\n",
        "raw_data = np.zeros((len(lines), len(header) - 1))\n",
        "for i, line in enumerate(lines):\n",
        "    values = [float(x) for x in line.split(\",\")[1:]]\n",
        "    temperature[i] = values[1]\n",
        "    raw_data[i, :] = values[:]\n",
        "\n",
        "raw_data[0] #first row"
      ]
    },
    {
      "cell_type": "code",
      "execution_count": 5,
      "metadata": {
        "colab": {
          "base_uri": "https://localhost:8080/",
          "height": 286
        },
        "id": "4zmX5UF99hU8",
        "outputId": "6e9627aa-2f8c-47d4-ce59-e93b449430c2"
      },
      "outputs": [
        {
          "data": {
            "text/plain": [
              "[<matplotlib.lines.Line2D at 0x1dd2042b2b0>]"
            ]
          },
          "execution_count": 5,
          "metadata": {},
          "output_type": "execute_result"
        },
        {
          "data": {
            "image/png": "[encoded data removed]",
            "text/plain": [
              "<Figure size 432x288 with 1 Axes>"
            ]
          },
          "metadata": {
            "needs_background": "light"
          },
          "output_type": "display_data"
        }
      ],
      "source": [
        "\n",
        "     \n",
        "# Plotting the temperature timeseries\n",
        "\n",
        "\n",
        "from matplotlib import pyplot as plt\n",
        "plt.plot(range(len(temperature)), temperature)\n",
        "\n",
        "\n"
      ]
    },
    {
      "cell_type": "code",
      "execution_count": 6,
      "metadata": {
        "colab": {
          "base_uri": "https://localhost:8080/",
          "height": 283
        },
        "id": "NJCIuMPP8Ut8",
        "outputId": "56c1e4dc-9517-4617-863c-38fe367dc626"
      },
      "outputs": [
        {
          "data": {
            "text/plain": [
              "[<matplotlib.lines.Line2D at 0x1dd07925780>]"
            ]
          },
          "execution_count": 6,
          "metadata": {},
          "output_type": "execute_result"
        },
        {
          "data": {
            "image/png": "[encoded data removed]",
            "text/plain": [
              "<Figure size 432x288 with 1 Axes>"
            ]
          },
          "metadata": {
            "needs_background": "light"
          },
          "output_type": "display_data"
        }
      ],
      "source": [
        "# plot part of the data from 10 first days ( number of samples 60/10*24*10)\n",
        "\n",
        "plt.plot(range(1440), temperature[:1440])\n",
        "\n",
        "\n",
        "     "
      ]
    },
    {
      "cell_type": "code",
      "execution_count": 7,
      "metadata": {
        "colab": {
          "base_uri": "https://localhost:8080/"
        },
        "id": "3GhQm5w18TD3",
        "outputId": "56fb3e1b-0689-4aeb-84e5-d5ae72465b50"
      },
      "outputs": [
        {
          "name": "stdout",
          "output_type": "stream",
          "text": [
            "num_train_samples: 210225\n",
            "num_val_samples: 105112\n",
            "num_test_samples: 105114\n"
          ]
        }
      ],
      "source": [
        "# Computing the number of samples we'll use for each data split\n",
        "\n",
        "\n",
        "num_train_samples = int(0.5 * len(raw_data))\n",
        "num_val_samples = int(0.25 * len(raw_data))\n",
        "num_test_samples = len(raw_data) - num_train_samples - num_val_samples\n",
        "print(\"num_train_samples:\", num_train_samples)\n",
        "print(\"num_val_samples:\", num_val_samples)\n",
        "print(\"num_test_samples:\", num_test_samples)\n"
      ]
    },
    {
      "cell_type": "code",
      "execution_count": 8,
      "metadata": {
        "colab": {
          "base_uri": "https://localhost:8080/"
        },
        "id": "yp0MESWhcoG0",
        "outputId": "65e2f8ca-9dc2-46d2-ca75-fafe109e1020"
      },
      "outputs": [
        {
          "data": {
            "text/plain": [
              "array([-8.02, -8.41, -8.51, ..., -3.16, -4.23, -4.82])"
            ]
          },
          "execution_count": 8,
          "metadata": {},
          "output_type": "execute_result"
        }
      ],
      "source": [
        "temperature"
      ]
    },
    {
      "cell_type": "code",
      "execution_count": 9,
      "metadata": {
        "colab": {
          "base_uri": "https://localhost:8080/"
        },
        "id": "lbTiHPkcci7G",
        "outputId": "6d18925e-b983-41f5-ae34-1c982feff4ab"
      },
      "outputs": [
        {
          "data": {
            "text/plain": [
              "array([[ 9.9652e+02, -8.0200e+00,  2.6540e+02, ...,  1.0300e+00,\n",
              "         1.7500e+00,  1.5230e+02],\n",
              "       [ 9.9657e+02, -8.4100e+00,  2.6501e+02, ...,  7.2000e-01,\n",
              "         1.5000e+00,  1.3610e+02],\n",
              "       [ 9.9653e+02, -8.5100e+00,  2.6491e+02, ...,  1.9000e-01,\n",
              "         6.3000e-01,  1.7160e+02],\n",
              "       ...,\n",
              "       [ 9.9982e+02, -3.1600e+00,  2.7001e+02, ...,  1.0800e+00,\n",
              "         2.0000e+00,  2.1520e+02],\n",
              "       [ 9.9981e+02, -4.2300e+00,  2.6894e+02, ...,  1.4900e+00,\n",
              "         2.1600e+00,  2.2580e+02],\n",
              "       [ 9.9982e+02, -4.8200e+00,  2.6836e+02, ...,  1.2300e+00,\n",
              "         1.9600e+00,  1.8490e+02]])"
            ]
          },
          "execution_count": 9,
          "metadata": {},
          "output_type": "execute_result"
        }
      ],
      "source": [
        "raw_data"
      ]
    },
    {
      "cell_type": "code",
      "execution_count": 10,
      "metadata": {
        "id": "8Jxp_5r1dspC"
      },
      "outputs": [],
      "source": [
        "     \n",
        "# Preparing the data\n",
        "# Normalizing the data\n",
        "\n",
        "\n",
        "mean = raw_data[:num_train_samples].mean(axis=0)\n",
        "raw_data -= mean\n",
        "std = raw_data[:num_train_samples].std(axis=0)\n",
        "raw_data /= std\n"
      ]
    },
    {
      "cell_type": "markdown",
      "metadata": {
        "id": "CMn1Vjyf-JxH"
      },
      "source": [
        "Jak przygotować szeregi czasowe jako wejście do modelu keras\n",
        "\n",
        "keras.utils.timeseries_dataset_from_array\n",
        "\n",
        "https://www.tensorflow.org/api_docs/python/tf/keras/utils/timeseries_dataset_from_array"
      ]
    },
    {
      "cell_type": "code",
      "execution_count": 11,
      "metadata": {
        "colab": {
          "base_uri": "https://localhost:8080/"
        },
        "id": "8ae9k8KUbeTI",
        "outputId": "cce9eb41-5f59-4761-93af-a27b2a178f89"
      },
      "outputs": [
        {
          "name": "stdout",
          "output_type": "stream",
          "text": [
            "[0 1 2 3 4 5 6 7 8 9]\n",
            "[0, 1, 2] 3\n",
            "[1, 2, 3] 4\n",
            "[2, 3, 4] 5\n",
            "[3, 4, 5] 6\n",
            "[4, 5, 6] 7\n"
          ]
        }
      ],
      "source": [
        "import numpy as np\n",
        "from tensorflow import keras\n",
        "int_sequence = np.arange(10)\n",
        "print(int_sequence)\n",
        "dummy_dataset = keras.utils.timeseries_dataset_from_array(\n",
        "    data=int_sequence[:-3],\n",
        "    targets=int_sequence[3:],\n",
        "    sequence_length=3,\n",
        "    batch_size=2,\n",
        ")\n",
        "\n",
        "for inputs, targets in dummy_dataset:\n",
        "    for i in range(inputs.shape[0]):\n",
        "        print([int(x) for x in inputs[i]], int(targets[i]))\n",
        "\n"
      ]
    },
    {
      "cell_type": "code",
      "execution_count": 12,
      "metadata": {
        "colab": {
          "base_uri": "https://localhost:8080/"
        },
        "id": "Z73zsLIqbif-",
        "outputId": "1494f408-3d30-4c48-be75-cc22a16414a5"
      },
      "outputs": [
        {
          "name": "stdout",
          "output_type": "stream",
          "text": [
            "samples shape: (256, 120, 14)\n",
            "targets shape: (256,)\n"
          ]
        }
      ],
      "source": [
        "\n",
        "sampling_rate = 6 #Observations will be sampled at one data point per hour\n",
        "sequence_length = 120\n",
        "delay = sampling_rate * (sequence_length + 24 - 1) #How many timesteps in the future the target should be\n",
        "batch_size = 256\n",
        "\n",
        "\n",
        "train_dataset = keras.utils.timeseries_dataset_from_array(\n",
        "    raw_data[:-delay],\n",
        "    targets=temperature[delay:],\n",
        "    sampling_rate=sampling_rate,\n",
        "    sequence_length=sequence_length,\n",
        "    shuffle=True,\n",
        "    batch_size=batch_size,\n",
        "    start_index=0,\n",
        "    end_index=num_train_samples)\n",
        "\n",
        "val_dataset = keras.utils.timeseries_dataset_from_array(\n",
        "    raw_data[:-delay],\n",
        "    targets=temperature[delay:],\n",
        "    sampling_rate=sampling_rate,\n",
        "    sequence_length=sequence_length,\n",
        "    shuffle=True,\n",
        "    batch_size=batch_size,\n",
        "    start_index=num_train_samples,\n",
        "    end_index=num_train_samples + num_val_samples)\n",
        "\n",
        "test_dataset = keras.utils.timeseries_dataset_from_array(\n",
        "    raw_data[:-delay],\n",
        "    targets=temperature[delay:],\n",
        "    sampling_rate=sampling_rate,\n",
        "    sequence_length=sequence_length,\n",
        "    shuffle=True,\n",
        "    batch_size=batch_size,\n",
        "    start_index=num_train_samples + num_val_samples)\n",
        "\n",
        "\n",
        "     \n",
        "# Inspecting the output of one of our datasets\n",
        "\n",
        "\n",
        "for samples, targets in train_dataset:\n",
        "    print(\"samples shape:\", samples.shape)\n",
        "    print(\"targets shape:\", targets.shape)\n",
        "    break"
      ]
    },
    {
      "cell_type": "markdown",
      "metadata": {
        "id": "6z53jOGKWYj8"
      },
      "source": [
        "Model referencyjny:\n",
        "\n",
        "Oblicz średni błąd bezwzględny (MAE) jeśli:\n",
        "\n",
        "temperatury kolejnego dnia są prawdopodobnie bardzo bliskie temperaturom dzisiejszym.\n",
        "\n"
      ]
    },
    {
      "cell_type": "code",
      "execution_count": 13,
      "metadata": {
        "colab": {
          "base_uri": "https://localhost:8080/"
        },
        "id": "7dKLVtRxVncF",
        "outputId": "c6546cca-0b19-4d53-b727-fc6fd0c3033f"
      },
      "outputs": [
        {
          "name": "stdout",
          "output_type": "stream",
          "text": [
            "Validation MAE: 2.44\n",
            "Test MAE: 2.62\n"
          ]
        }
      ],
      "source": [
        "\n",
        "def evaluate_naive_method(dataset):\n",
        "    total_abs_err = 0.\n",
        "    samples_seen = 0\n",
        "    for samples, targets in dataset:\n",
        "        preds = samples[:, -1, 1] * std[1] + mean[1]\n",
        "        total_abs_err += np.sum(np.abs(preds - targets))\n",
        "        samples_seen += samples.shape[0]\n",
        "    return total_abs_err / samples_seen\n",
        "\n",
        "print(f\"Validation MAE: {evaluate_naive_method(val_dataset):.2f}\")\n",
        "print(f\"Test MAE: {evaluate_naive_method(test_dataset):.2f}\")\n",
        "\n",
        "\n",
        "     \n",
        "\n",
        "     "
      ]
    },
    {
      "cell_type": "markdown",
      "metadata": {
        "id": "VewZdmi1ln3f"
      },
      "source": [
        "Utwórz sieć neuronową z warstwami gęstymi aby spróbować rozwiązać problem:\n",
        "\n",
        "\n",
        "\n",
        "\n",
        "1. Wymiar wejścia powinny wylądać :(length of sequence, raw_data.shape[-1]) \n",
        "2. Dodaj warstwę spłaszczającą (flatten) na początku sieci \n",
        "3. Dodaj warstwy gęste z odpowiednimi funkcjami aktywacji\n",
        "4. Funkcja kosztu - mse, metryka -mae.\n",
        "5. można użyć callback do zapisania najlepszych modeli\n",
        "6. wytrenuj model przez minimum 10 epok, zapisz historię i utwóz wykresy wyników, dodaj ewaluacje na testowym zbiorze\n",
        "7. Czy model jest lepszy niż model referencyjny ? Dlaczego?"
      ]
    },
    {
      "cell_type": "code",
      "execution_count": 14,
      "metadata": {
        "colab": {
          "base_uri": "https://localhost:8080/"
        },
        "id": "93oAQqm0V3wd",
        "outputId": "6e3bea0e-d819-45b8-a97f-940891edfc47"
      },
      "outputs": [
        {
          "name": "stdout",
          "output_type": "stream",
          "text": [
            "Epoch 1/10\n",
            "819/819 [==============================] - 29s 34ms/step - loss: 13.5152 - mae: 2.8388 - val_loss: 11.6155 - val_mae: 2.6742\n",
            "Epoch 2/10\n",
            "819/819 [==============================] - 30s 36ms/step - loss: 9.5658 - mae: 2.4345 - val_loss: 11.2915 - val_mae: 2.6560\n",
            "Epoch 3/10\n",
            "819/819 [==============================] - 23s 28ms/step - loss: 8.8305 - mae: 2.3408 - val_loss: 9.9934 - val_mae: 2.4997\n",
            "Epoch 4/10\n",
            "819/819 [==============================] - 26s 31ms/step - loss: 8.3349 - mae: 2.2750 - val_loss: 10.0573 - val_mae: 2.5030\n",
            "Epoch 5/10\n",
            "819/819 [==============================] - 28s 34ms/step - loss: 7.9917 - mae: 2.2269 - val_loss: 10.4933 - val_mae: 2.5634\n",
            "Epoch 6/10\n",
            "819/819 [==============================] - 25s 30ms/step - loss: 7.7294 - mae: 2.1911 - val_loss: 10.3737 - val_mae: 2.5486\n",
            "Epoch 7/10\n",
            "819/819 [==============================] - 27s 33ms/step - loss: 7.5160 - mae: 2.1568 - val_loss: 10.0805 - val_mae: 2.5112\n",
            "Epoch 8/10\n",
            "819/819 [==============================] - 28s 34ms/step - loss: 7.3753 - mae: 2.1368 - val_loss: 10.2922 - val_mae: 2.5232\n",
            "Epoch 9/10\n",
            "819/819 [==============================] - 26s 31ms/step - loss: 7.2166 - mae: 2.1145 - val_loss: 10.6675 - val_mae: 2.5788\n",
            "Epoch 10/10\n",
            "819/819 [==============================] - 25s 30ms/step - loss: 7.0908 - mae: 2.0952 - val_loss: 10.8252 - val_mae: 2.6024\n",
            "405/405 [==============================] - 8s 18ms/step - loss: 11.1094 - mae: 2.6068\n",
            "Test MAE: 2.61\n"
          ]
        }
      ],
      "source": [
        "\n",
        "\n",
        "from tensorflow import keras\n",
        "from tensorflow.keras import layers\n",
        "\n",
        "inputs = keras.Input(shape=(sequence_length, raw_data.shape[-1]))\n",
        "x = layers.Flatten()(inputs)\n",
        "x = layers.Dense(16, activation=\"relu\")(x)\n",
        "outputs = layers.Dense(1)(x)\n",
        "model = keras.Model(inputs, outputs)\n",
        "\n",
        "callbacks = [\n",
        "    keras.callbacks.ModelCheckpoint(\"jena_dense.keras\",\n",
        "                                    save_best_only=True)\n",
        "]\n",
        "model.compile(optimizer=\"rmsprop\", loss=\"mse\", metrics=[\"mae\"])\n",
        "history = model.fit(train_dataset,\n",
        "                    epochs=10,\n",
        "                    validation_data=val_dataset,\n",
        "                    callbacks=callbacks)\n",
        "\n",
        "model = keras.models.load_model(\"jena_dense.keras\")\n",
        "print(f\"Test MAE: {model.evaluate(test_dataset)[1]:.2f}\")\n",
        "\n",
        "\n",
        "    \n"
      ]
    },
    {
      "cell_type": "markdown",
      "metadata": {
        "id": "9ksapPHMWW1b"
      },
      "source": [
        " \n",
        "Plotting results"
      ]
    },
    {
      "cell_type": "code",
      "execution_count": 15,
      "metadata": {
        "colab": {
          "base_uri": "https://localhost:8080/",
          "height": 281
        },
        "id": "JmOSJjQnV7o6",
        "outputId": "c5f6f54b-5166-41e3-e5a6-0c2f08115238"
      },
      "outputs": [
        {
          "data": {
            "image/png": "[encoded data removed]",
            "text/plain": [
              "<Figure size 432x288 with 1 Axes>"
            ]
          },
          "metadata": {
            "needs_background": "light"
          },
          "output_type": "display_data"
        }
      ],
      "source": [
        "import matplotlib.pyplot as plt\n",
        "loss = history.history[\"mae\"]\n",
        "val_loss = history.history[\"val_mae\"]\n",
        "epochs = range(1, len(loss) + 1)\n",
        "plt.figure()\n",
        "plt.plot(epochs, loss, \"bo\", label=\"Training MAE\")\n",
        "plt.plot(epochs, val_loss, \"b\", label=\"Validation MAE\")\n",
        "plt.title(\"Training and validation MAE\")\n",
        "plt.legend()\n",
        "plt.show()\n",
        "\n",
        "\n",
        "     \n",
        "\n"
      ]
    },
    {
      "cell_type": "markdown",
      "metadata": {
        "id": "bVdvc7ttWT9B"
      },
      "source": [
        "Utwórz sieć konwolucyjna\n",
        "\n",
        "1. Wejście wygląda podobnie jak w poprzedniej warstwie\n",
        "2. Dodaj kilka warstw 1D Convolution oraz MaxPooling\n",
        "3. Po ostatniej warstwie Convolution dodaj Global Average Poooling1d https://keras.io/api/layers/pooling_layers/global_average_pooling1d/ \n",
        "4. Ostatnia warstwa jest gęsta\n",
        "5. Funkcja kosztu - mse, metryka -mae.\n",
        "5. można użyć callback do zapisania najlepszych modeli\n",
        "6. wytrenuj model przez minimum 10 epok, zapisz historię i utwórz wykresy wyników, dodaj ewaluacje na testowym zbiorze\n",
        "7. Czy model jest lepszy niż poprzednie modele? Dlaczego?"
      ]
    },
    {
      "cell_type": "code",
      "execution_count": 16,
      "metadata": {
        "colab": {
          "base_uri": "https://localhost:8080/"
        },
        "id": "GKG-NedGWSfH",
        "outputId": "68f0d5b4-a080-4df7-f067-bceaa6449d9c"
      },
      "outputs": [
        {
          "name": "stdout",
          "output_type": "stream",
          "text": [
            "Epoch 1/10\n",
            "819/819 [==============================] - 73s 88ms/step - loss: 23.0492 - mae: 3.7374 - val_loss: 19.0733 - val_mae: 3.4258\n",
            "Epoch 2/10\n",
            "819/819 [==============================] - 67s 81ms/step - loss: 15.2224 - mae: 3.0863 - val_loss: 18.1770 - val_mae: 3.4047\n",
            "Epoch 3/10\n",
            "819/819 [==============================] - 72s 88ms/step - loss: 13.9400 - mae: 2.9514 - val_loss: 16.5424 - val_mae: 3.2044\n",
            "Epoch 4/10\n",
            "819/819 [==============================] - 75s 91ms/step - loss: 13.1715 - mae: 2.8721 - val_loss: 15.6059 - val_mae: 3.0806\n",
            "Epoch 5/10\n",
            "819/819 [==============================] - 75s 91ms/step - loss: 12.5778 - mae: 2.8055 - val_loss: 15.2047 - val_mae: 3.0481\n",
            "Epoch 6/10\n",
            "819/819 [==============================] - 70s 86ms/step - loss: 12.0646 - mae: 2.7452 - val_loss: 18.6541 - val_mae: 3.4046\n",
            "Epoch 7/10\n",
            "819/819 [==============================] - 68s 83ms/step - loss: 11.6402 - mae: 2.6957 - val_loss: 15.8000 - val_mae: 3.0962\n",
            "Epoch 8/10\n",
            "819/819 [==============================] - 70s 85ms/step - loss: 11.3094 - mae: 2.6560 - val_loss: 15.7037 - val_mae: 3.1087\n",
            "Epoch 9/10\n",
            "819/819 [==============================] - 69s 84ms/step - loss: 10.9561 - mae: 2.6126 - val_loss: 15.9535 - val_mae: 3.1153\n",
            "Epoch 10/10\n",
            "819/819 [==============================] - 71s 87ms/step - loss: 10.7134 - mae: 2.5841 - val_loss: 16.8563 - val_mae: 3.1944\n",
            "405/405 [==============================] - 6s 15ms/step - loss: 15.7092 - mae: 3.1200\n",
            "Test MAE: 3.12\n"
          ]
        }
      ],
      "source": [
        "\n",
        "inputs = keras.Input(shape=(sequence_length, raw_data.shape[-1]))\n",
        "x = layers.Conv1D(8, 24, activation=\"relu\")(inputs)\n",
        "x = layers.MaxPooling1D(2)(x)\n",
        "x = layers.Conv1D(8, 12, activation=\"relu\")(x)\n",
        "x = layers.MaxPooling1D(2)(x)\n",
        "x = layers.Conv1D(8, 6, activation=\"relu\")(x)\n",
        "x = layers.GlobalAveragePooling1D()(x)\n",
        "outputs = layers.Dense(1)(x)\n",
        "model = keras.Model(inputs, outputs)\n",
        "\n",
        "callbacks = [\n",
        "    keras.callbacks.ModelCheckpoint(\"jena_conv.keras\",\n",
        "                                    save_best_only=True)\n",
        "]\n",
        "model.compile(optimizer=\"rmsprop\", loss=\"mse\", metrics=[\"mae\"])\n",
        "history = model.fit(train_dataset,\n",
        "                    epochs=10,\n",
        "                    validation_data=val_dataset,\n",
        "                    callbacks=callbacks)\n",
        "\n",
        "model = keras.models.load_model(\"jena_conv.keras\")\n",
        "print(f\"Test MAE: {model.evaluate(test_dataset)[1]:.2f}\")\n",
        "\n"
      ]
    },
    {
      "cell_type": "code",
      "execution_count": 17,
      "metadata": {
        "colab": {
          "base_uri": "https://localhost:8080/",
          "height": 281
        },
        "id": "LXf7MfzlJBcC",
        "outputId": "f7d7779f-e94f-4e06-8e44-9ec3e070f76b"
      },
      "outputs": [
        {
          "data": {
            "image/png": "[encoded data removed]",
            "text/plain": [
              "<Figure size 432x288 with 1 Axes>"
            ]
          },
          "metadata": {
            "needs_background": "light"
          },
          "output_type": "display_data"
        }
      ],
      "source": [
        "import matplotlib.pyplot as plt\n",
        "loss = history.history[\"mae\"]\n",
        "val_loss = history.history[\"val_mae\"]\n",
        "epochs = range(1, len(loss) + 1)\n",
        "plt.figure()\n",
        "plt.plot(epochs, loss, \"bo\", label=\"Training MAE\")\n",
        "plt.plot(epochs, val_loss, \"b\", label=\"Validation MAE\")\n",
        "plt.title(\"Training and validation MAE\")\n",
        "plt.legend()\n",
        "plt.show()\n"
      ]
    },
    {
      "cell_type": "markdown",
      "metadata": {
        "id": "PeEyM95KJAsf"
      },
      "source": [
        "## RNNS (1 punkt)"
      ]
    },
    {
      "cell_type": "markdown",
      "metadata": {
        "id": "MsrPx5I7WPmv"
      },
      "source": [
        "     \n",
        "Prostu model LSTM\n",
        "\n",
        "1. Wejście jest podobne jak w poprzednich sieciach (bez warstwy \"spłaszczającej\" wejście)\n",
        "2. Model powinien mieć 1 warstwę LSTM z pewną liczbą komórek. \n",
        "3. Dodaj warstwę gęstą jako ostatnią warstwę\n",
        "4. Funkcja straty: błąd średniokwadratowy (mse), metryka średni błąd bezwzględny (mae).\n",
        "5. Możesz użyć callbacków do zapisu najlepszego modelu itp.\n",
        "6. Wytrenuj model przynajmniej 10 epok, zapisz historie i utwórz wykres \n",
        "7. Czy wynik jest lepszy niż poprzednich modeli?\n",
        "\n"
      ]
    },
    {
      "cell_type": "code",
      "execution_count": 18,
      "metadata": {
        "colab": {
          "base_uri": "https://localhost:8080/"
        },
        "id": "5aEBAA5hWNzT",
        "outputId": "bac7cef5-1839-4193-e779-3660afe7abbb"
      },
      "outputs": [
        {
          "name": "stdout",
          "output_type": "stream",
          "text": [
            "Epoch 1/10\n",
            "819/819 [==============================] - 43s 50ms/step - loss: 100.8669 - mae: 8.0517 - val_loss: 73.2991 - val_mae: 6.6460\n",
            "Epoch 2/10\n",
            "819/819 [==============================] - 46s 56ms/step - loss: 53.9158 - mae: 5.5641 - val_loss: 37.9169 - val_mae: 4.5800\n",
            "Epoch 3/10\n",
            "819/819 [==============================] - 46s 56ms/step - loss: 30.0216 - mae: 4.0579 - val_loss: 20.1816 - val_mae: 3.3156\n",
            "Epoch 4/10\n",
            "819/819 [==============================] - 47s 57ms/step - loss: 18.9958 - mae: 3.2352 - val_loss: 12.9935 - val_mae: 2.7223\n",
            "Epoch 5/10\n",
            "819/819 [==============================] - 46s 56ms/step - loss: 13.9651 - mae: 2.8305 - val_loss: 10.8701 - val_mae: 2.5500\n",
            "Epoch 6/10\n",
            "819/819 [==============================] - 46s 56ms/step - loss: 11.5792 - mae: 2.6417 - val_loss: 9.9518 - val_mae: 2.4556\n",
            "Epoch 7/10\n",
            "819/819 [==============================] - 46s 56ms/step - loss: 10.9338 - mae: 2.5762 - val_loss: 9.5807 - val_mae: 2.4117\n",
            "Epoch 8/10\n",
            "819/819 [==============================] - 47s 57ms/step - loss: 10.5694 - mae: 2.5346 - val_loss: 9.5087 - val_mae: 2.4037\n",
            "Epoch 9/10\n",
            "819/819 [==============================] - 46s 56ms/step - loss: 10.2840 - mae: 2.5019 - val_loss: 9.4699 - val_mae: 2.4042\n",
            "Epoch 10/10\n",
            "819/819 [==============================] - 46s 56ms/step - loss: 10.1115 - mae: 2.4817 - val_loss: 9.4613 - val_mae: 2.4046\n",
            "405/405 [==============================] - 8s 20ms/step - loss: 11.0042 - mae: 2.5868\n",
            "Test MAE: 2.59\n"
          ]
        }
      ],
      "source": [
        "from keras.layers import LSTM\n",
        "from keras.callbacks import EarlyStopping\n",
        "\n",
        "callback = EarlyStopping(monitor='val_loss', patience=2)\n",
        "\n",
        "inputs = keras.Input(shape=(sequence_length, raw_data.shape[-1]))\n",
        "l = layers.LSTM(4)(inputs)\n",
        "outputs = layers.Dense(1)(l)\n",
        "\n",
        "model = keras.Model(inputs=inputs, outputs=outputs)\n",
        "\n",
        "model.compile(optimizer='rmsprop', loss=\"mse\", metrics=[\"mae\"])\n",
        "history = model.fit(train_dataset,\n",
        "                    epochs=10,\n",
        "                    validation_data=val_dataset,\n",
        "                    callbacks=callbacks)\n",
        "\n",
        "print(f\"Test MAE: {model.evaluate(test_dataset)[1]:.2f}\")\n",
        "\n",
        "\n",
        "\n",
        "     \n"
      ]
    },
    {
      "cell_type": "code",
      "execution_count": 19,
      "metadata": {
        "id": "QZygsdxoJFNJ"
      },
      "outputs": [
        {
          "data": {
            "image/png": "[encoded data removed]",
            "text/plain": [
              "<Figure size 432x288 with 1 Axes>"
            ]
          },
          "metadata": {
            "needs_background": "light"
          },
          "output_type": "display_data"
        }
      ],
      "source": [
        "import matplotlib.pyplot as plt\n",
        "loss = history.history[\"mae\"]\n",
        "val_loss = history.history[\"val_mae\"]\n",
        "epochs = range(1, len(loss) + 1)\n",
        "plt.figure()\n",
        "plt.plot(epochs, loss, \"bo\", label=\"Training MAE\")\n",
        "plt.plot(epochs, val_loss, \"b\", label=\"Validation MAE\")\n",
        "plt.title(\"Training and validation MAE\")\n",
        "plt.legend()\n",
        "plt.show()\n"
      ]
    },
    {
      "cell_type": "markdown",
      "metadata": {
        "id": "KIONym2ZI5aZ"
      },
      "source": [
        "Optional:\n",
        "Utwórz sieć rekurencyjną dwukierunkową \n",
        "Wykorzystaj  wrapper Bidirectional (https://keras.io/api/layers/recurrent_layers/bidirectional/)  dla warstwy LSTM. Tworzy on dwie warstwy LSTM w dwóch kierunkach, od początku do końca sekwencji i od  końca do początku.\n",
        "\n"
      ]
    },
    {
      "cell_type": "code",
      "execution_count": 40,
      "metadata": {
        "colab": {
          "base_uri": "https://localhost:8080/"
        },
        "id": "2ET-aZBuI3h-",
        "outputId": "f2a8fd42-3c61-42cd-92f5-3071b71e3727"
      },
      "outputs": [
        {
          "ename": "ValueError",
          "evalue": "Please initialize `Bidirectional` layer with a `tf.keras.layers.Layer` instance. Received: KerasTensor(type_spec=TensorSpec(shape=(None, 120, 4), dtype=tf.float32, name=None), name='lstm_17/PartitionedCall:1', description=\"created by layer 'lstm_17'\")",
          "output_type": "error",
          "traceback": [
            "\u001b[1;31m---------------------------------------------------------------------------\u001b[0m",
            "\u001b[1;31mValueError\u001b[0m                                Traceback (most recent call last)",
            "\u001b[1;32mc:\\Users\\manar\\Desktop\\WUM\\WUM_11_ćwiczenia_b.ipynb Cell 28\u001b[0m in \u001b[0;36m<cell line: 8>\u001b[1;34m()\u001b[0m\n\u001b[0;32m      <a href='vscode-notebook-cell:/c%3A/Users/manar/Desktop/WUM/WUM_11_%C4%87wiczenia_b.ipynb#X36sZmlsZQ%3D%3D?line=5'>6</a>\u001b[0m inputs \u001b[39m=\u001b[39m keras\u001b[39m.\u001b[39mInput(shape\u001b[39m=\u001b[39m(sequence_length, raw_data\u001b[39m.\u001b[39mshape[\u001b[39m-\u001b[39m\u001b[39m1\u001b[39m]))\n\u001b[0;32m      <a href='vscode-notebook-cell:/c%3A/Users/manar/Desktop/WUM/WUM_11_%C4%87wiczenia_b.ipynb#X36sZmlsZQ%3D%3D?line=6'>7</a>\u001b[0m lstm1 \u001b[39m=\u001b[39m layers\u001b[39m.\u001b[39mLSTM(\u001b[39m4\u001b[39m, return_sequences\u001b[39m=\u001b[39m\u001b[39mTrue\u001b[39;00m)(inputs)\n\u001b[1;32m----> <a href='vscode-notebook-cell:/c%3A/Users/manar/Desktop/WUM/WUM_11_%C4%87wiczenia_b.ipynb#X36sZmlsZQ%3D%3D?line=7'>8</a>\u001b[0m l \u001b[39m=\u001b[39m Bidirectional(lstm1 ,shape\u001b[39m=\u001b[39;49m(\u001b[39mNone\u001b[39;49;00m,\u001b[39m120\u001b[39;49m,\u001b[39m4\u001b[39;49m))\n\u001b[0;32m      <a href='vscode-notebook-cell:/c%3A/Users/manar/Desktop/WUM/WUM_11_%C4%87wiczenia_b.ipynb#X36sZmlsZQ%3D%3D?line=8'>9</a>\u001b[0m outputs \u001b[39m=\u001b[39m layers\u001b[39m.\u001b[39mDense(\u001b[39m1\u001b[39m)(l)\n\u001b[0;32m     <a href='vscode-notebook-cell:/c%3A/Users/manar/Desktop/WUM/WUM_11_%C4%87wiczenia_b.ipynb#X36sZmlsZQ%3D%3D?line=10'>11</a>\u001b[0m model \u001b[39m=\u001b[39m keras\u001b[39m.\u001b[39mModel(inputs\u001b[39m=\u001b[39minputs, outputs\u001b[39m=\u001b[39moutputs)\n",
            "File \u001b[1;32mc:\\Users\\manar\\anaconda3\\envs\\PAD\\lib\\site-packages\\keras\\layers\\rnn\\bidirectional.py:112\u001b[0m, in \u001b[0;36mBidirectional.__init__\u001b[1;34m(self, layer, merge_mode, weights, backward_layer, **kwargs)\u001b[0m\n\u001b[0;32m    105\u001b[0m \u001b[39mdef\u001b[39;00m \u001b[39m__init__\u001b[39m(\u001b[39mself\u001b[39m,\n\u001b[0;32m    106\u001b[0m              layer,\n\u001b[0;32m    107\u001b[0m              merge_mode\u001b[39m=\u001b[39m\u001b[39m'\u001b[39m\u001b[39mconcat\u001b[39m\u001b[39m'\u001b[39m,\n\u001b[0;32m    108\u001b[0m              weights\u001b[39m=\u001b[39m\u001b[39mNone\u001b[39;00m,\n\u001b[0;32m    109\u001b[0m              backward_layer\u001b[39m=\u001b[39m\u001b[39mNone\u001b[39;00m,\n\u001b[0;32m    110\u001b[0m              \u001b[39m*\u001b[39m\u001b[39m*\u001b[39mkwargs):\n\u001b[0;32m    111\u001b[0m   \u001b[39mif\u001b[39;00m \u001b[39mnot\u001b[39;00m \u001b[39misinstance\u001b[39m(layer, Layer):\n\u001b[1;32m--> 112\u001b[0m     \u001b[39mraise\u001b[39;00m \u001b[39mValueError\u001b[39;00m(\n\u001b[0;32m    113\u001b[0m         \u001b[39m'\u001b[39m\u001b[39mPlease initialize `Bidirectional` layer with a \u001b[39m\u001b[39m'\u001b[39m\n\u001b[0;32m    114\u001b[0m         \u001b[39mf\u001b[39m\u001b[39m'\u001b[39m\u001b[39m`tf.keras.layers.Layer` instance. Received: \u001b[39m\u001b[39m{\u001b[39;00mlayer\u001b[39m}\u001b[39;00m\u001b[39m'\u001b[39m)\n\u001b[0;32m    115\u001b[0m   \u001b[39mif\u001b[39;00m backward_layer \u001b[39mis\u001b[39;00m \u001b[39mnot\u001b[39;00m \u001b[39mNone\u001b[39;00m \u001b[39mand\u001b[39;00m \u001b[39mnot\u001b[39;00m \u001b[39misinstance\u001b[39m(backward_layer, Layer):\n\u001b[0;32m    116\u001b[0m     \u001b[39mraise\u001b[39;00m \u001b[39mValueError\u001b[39;00m(\n\u001b[0;32m    117\u001b[0m         \u001b[39m'\u001b[39m\u001b[39m`backward_layer` need to be a `tf.keras.layers.Layer` instance. \u001b[39m\u001b[39m'\u001b[39m\n\u001b[0;32m    118\u001b[0m         \u001b[39mf\u001b[39m\u001b[39m'\u001b[39m\u001b[39mReceived: \u001b[39m\u001b[39m{\u001b[39;00mbackward_layer\u001b[39m}\u001b[39;00m\u001b[39m'\u001b[39m)\n",
            "\u001b[1;31mValueError\u001b[0m: Please initialize `Bidirectional` layer with a `tf.keras.layers.Layer` instance. Received: KerasTensor(type_spec=TensorSpec(shape=(None, 120, 4), dtype=tf.float32, name=None), name='lstm_17/PartitionedCall:1', description=\"created by layer 'lstm_17'\")"
          ]
        }
      ],
      "source": [
        "from keras.layers import Bidirectional\n",
        "\n",
        "\n",
        "callback = EarlyStopping(monitor='val_loss', patience=2)\n",
        "\n",
        "inputs = keras.Input(shape=(sequence_length, raw_data.shape[-1]))\n",
        "lstm1 = layers.LSTM(4, return_sequences=True)(inputs)\n",
        "l = Bidirectional(lstm1 ,shape=(None,120,4))\n",
        "outputs = layers.Dense(1)(l)\n",
        "\n",
        "model = keras.Model(inputs=inputs, outputs=outputs)\n",
        "\n",
        "model.compile(optimizer='rmsprop', loss=\"mse\", metrics=[\"mae\"])\n",
        "history = model.fit(train_dataset,\n",
        "                    epochs=10,\n",
        "                    validation_data=val_dataset,\n",
        "                    callbacks=callbacks)\n",
        "\n",
        "\n",
        "\n",
        "print(f\"Test MAE: {model.evaluate(test_dataset)[1]:.2f}\")\n",
        "\n"
      ]
    },
    {
      "cell_type": "code",
      "execution_count": 21,
      "metadata": {
        "id": "ZjAALc_PqUmQ"
      },
      "outputs": [
        {
          "data": {
            "image/png": "[encoded data removed]",
            "text/plain": [
              "<Figure size 432x288 with 1 Axes>"
            ]
          },
          "metadata": {
            "needs_background": "light"
          },
          "output_type": "display_data"
        }
      ],
      "source": [
        "import matplotlib.pyplot as plt\n",
        "loss = history.history[\"mae\"]\n",
        "val_loss = history.history[\"val_mae\"]\n",
        "epochs = range(1, len(loss) + 1)\n",
        "plt.figure()\n",
        "plt.plot(epochs, loss, \"bo\", label=\"Training MAE\")\n",
        "plt.plot(epochs, val_loss, \"b\", label=\"Validation MAE\")\n",
        "plt.title(\"Training and validation MAE\")\n",
        "plt.legend()\n",
        "plt.show()\n"
      ]
    },
    {
      "cell_type": "markdown",
      "metadata": {
        "id": "uTyzGb5LrFKK"
      },
      "source": [
        "## Another possibilities of RNN architectures:"
      ]
    },
    {
      "cell_type": "markdown",
      "metadata": {
        "id": "NWAJZZFpWHM_"
      },
      "source": [
        "Input: sequences of any length\n",
        "\n",
        "\n"
      ]
    },
    {
      "cell_type": "code",
      "execution_count": 22,
      "metadata": {
        "id": "S8Wvc6cQWGqc"
      },
      "outputs": [],
      "source": [
        "\n",
        "\n",
        "num_features = 14\n",
        "inputs = keras.Input(shape=(None, num_features))\n",
        "outputs = layers.SimpleRNN(16)(inputs)\n",
        "\n",
        "\n",
        "     \n"
      ]
    },
    {
      "cell_type": "markdown",
      "metadata": {
        "id": "42Yz3zUHWDKB"
      },
      "source": [
        "returns only last output step"
      ]
    },
    {
      "cell_type": "code",
      "execution_count": 23,
      "metadata": {
        "colab": {
          "base_uri": "https://localhost:8080/"
        },
        "id": "LgbLxumgWCvU",
        "outputId": "bd36376f-9b80-4558-a033-8489cde98d7b"
      },
      "outputs": [
        {
          "name": "stdout",
          "output_type": "stream",
          "text": [
            "(None, 16)\n"
          ]
        }
      ],
      "source": [
        "num_features = 14\n",
        "steps = 120\n",
        "inputs = keras.Input(shape=(steps, num_features))\n",
        "outputs = layers.SimpleRNN(16, return_sequences=False)(inputs)\n",
        "print(outputs.shape)\n",
        "\n"
      ]
    },
    {
      "cell_type": "markdown",
      "metadata": {
        "id": "kzjB3TJpV_mZ"
      },
      "source": [
        "returns full output sequence\n"
      ]
    },
    {
      "cell_type": "code",
      "execution_count": 24,
      "metadata": {
        "colab": {
          "base_uri": "https://localhost:8080/"
        },
        "id": "oPBjMR7qV_uX",
        "outputId": "62166b36-6b95-43a9-94e3-a274da46729e"
      },
      "outputs": [
        {
          "name": "stdout",
          "output_type": "stream",
          "text": [
            "(None, 120, 16)\n"
          ]
        }
      ],
      "source": [
        "\n",
        "num_features = 14\n",
        "steps = 120\n",
        "inputs = keras.Input(shape=(steps, num_features))\n",
        "outputs = layers.SimpleRNN(16, return_sequences=True)(inputs)\n",
        "print(outputs.shape)\n",
        "\n"
      ]
    },
    {
      "cell_type": "markdown",
      "metadata": {
        "id": "RGDcJ2IvV9Lm"
      },
      "source": [
        "Stacking RNN layers"
      ]
    },
    {
      "cell_type": "code",
      "execution_count": 25,
      "metadata": {
        "id": "rNM7H5TsV9cl"
      },
      "outputs": [],
      "source": [
        "inputs = keras.Input(shape=(steps, num_features))\n",
        "x = layers.SimpleRNN(16, return_sequences=True)(inputs)\n",
        "x = layers.SimpleRNN(16, return_sequences=True)(x)\n",
        "outputs = layers.SimpleRNN(16)(x)"
      ]
    },
    {
      "cell_type": "code",
      "execution_count": null,
      "metadata": {
        "id": "8qRcuLHgjl7u"
      },
      "outputs": [],
      "source": []
    },
    {
      "cell_type": "markdown",
      "metadata": {
        "id": "rHd4z7aDjmaK"
      },
      "source": [
        "## Sieci rekurencyjne dla tekstu (2 punkty projektowe)"
      ]
    },
    {
      "cell_type": "code",
      "execution_count": null,
      "metadata": {
        "id": "7-0CeotUjonN"
      },
      "outputs": [],
      "source": []
    },
    {
      "cell_type": "markdown",
      "metadata": {
        "id": "CYoZRLsNhSCK"
      },
      "source": [
        "Pobieranie danych"
      ]
    },
    {
      "cell_type": "code",
      "execution_count": 26,
      "metadata": {
        "colab": {
          "base_uri": "https://localhost:8080/"
        },
        "id": "K5zoct-NhSCL",
        "outputId": "1af05995-3c28-4812-d8a9-1b860b140143"
      },
      "outputs": [
        {
          "name": "stderr",
          "output_type": "stream",
          "text": [
            "  % Total    % Received % Xferd  Average Speed   Time    Time     Time  Current\n",
            "                                 Dload  Upload   Total   Spent    Left  Speed\n",
            "\n",
            "  0     0    0     0    0     0      0      0 --:--:-- --:--:-- --:--:--     0\n",
            "  0     0    0     0    0     0      0      0 --:--:-- --:--:-- --:--:--     0\n",
            "  0 80.2M    0     0    0     0      0      0 --:--:--  0:00:01 --:--:--     0\n",
            "  0 80.2M    0  128k    0     0  62008      0  0:22:36  0:00:02  0:22:34 62031\n",
            "  0 80.2M    0  496k    0     0   158k      0  0:08:37  0:00:03  0:08:34  158k\n",
            "  1 80.2M    1  944k    0     0   228k      0  0:05:58  0:00:04  0:05:54  228k\n",
            "  1 80.2M    1 1472k    0     0   287k      0  0:04:45  0:00:05  0:04:40  289k\n",
            "  2 80.2M    2 2032k    0     0   332k      0  0:04:07  0:00:06  0:04:01  406k\n",
            "  3 80.2M    3 2608k    0     0   367k      0  0:03:43  0:00:07  0:03:36  496k\n",
            "  3 80.2M    3 3168k    0     0   391k      0  0:03:30  0:00:08  0:03:22  537k\n",
            "  4 80.2M    4 3760k    0     0   413k      0  0:03:18  0:00:09  0:03:09  566k\n",
            "  5 80.2M    5 4384k    0     0   434k      0  0:03:09  0:00:10  0:02:59  585k\n",
            "  6 80.2M    6 5088k    0     0   459k      0  0:02:58  0:00:11  0:02:47  614k\n",
            "  7 80.2M    7 5936k    0     0   491k      0  0:02:47  0:00:12  0:02:35  669k\n",
            "  8 80.2M    8 7024k    0     0   537k      0  0:02:32  0:00:13  0:02:19  776k\n",
            " 10 80.2M   10 8432k    0     0   599k      0  0:02:16  0:00:14  0:02:02  941k\n",
            " 12 80.2M   12 10.0M    0     0   684k      0  0:01:59  0:00:15  0:01:44 1193k\n",
            " 15 80.2M   15 12.4M    0     0   792k      0  0:01:43  0:00:16  0:01:27 1538k\n",
            " 19 80.2M   19 15.5M    0     0   932k      0  0:01:28  0:00:17  0:01:11 2007k\n",
            " 24 80.2M   24 19.3M    0     0  1091k      0  0:01:15  0:00:18  0:00:57 2516k\n",
            " 28 80.2M   28 22.9M    0     0  1232k      0  0:01:06  0:00:19  0:00:47 3024k\n",
            " 32 80.2M   32 26.3M    0     0  1339k      0  0:01:01  0:00:20  0:00:41 3266k\n",
            " 35 80.2M   35 28.7M    0     0  1397k      0  0:00:58  0:00:21  0:00:37 3345k\n",
            " 38 80.2M   38 30.7M    0     0  1428k      0  0:00:57  0:00:22  0:00:35 3122k\n",
            " 41 80.2M   41 32.9M    0     0  1463k      0  0:00:56  0:00:23  0:00:33 2847k\n",
            " 43 80.2M   43 35.1M    0     0  1498k      0  0:00:54  0:00:24  0:00:30 2508k\n",
            " 46 80.2M   46 37.3M    0     0  1529k      0  0:00:53  0:00:25  0:00:28 2316k\n",
            " 49 80.2M   49 39.6M    0     0  1560k      0  0:00:52  0:00:26  0:00:26 2246k\n",
            " 52 80.2M   52 41.9M    0     0  1590k      0  0:00:51  0:00:27  0:00:24 2300k\n",
            " 55 80.2M   55 44.2M    0     0  1616k      0  0:00:50  0:00:28  0:00:22 2323k\n",
            " 58 80.2M   58 46.5M    0     0  1643k      0  0:00:49  0:00:29  0:00:20 2342k\n",
            " 61 80.2M   61 48.9M    0     0  1670k      0  0:00:49  0:00:30  0:00:19 2374k\n",
            " 64 80.2M   64 51.5M    0     0  1700k      0  0:00:48  0:00:31  0:00:17 2428k\n",
            " 67 80.2M   67 54.2M    0     0  1736k      0  0:00:47  0:00:32  0:00:15 2524k\n",
            " 70 80.2M   70 56.5M    0     0  1754k      0  0:00:46  0:00:33  0:00:13 2524k\n",
            " 73 80.2M   73 58.8M    0     0  1770k      0  0:00:46  0:00:34  0:00:12 2507k\n",
            " 75 80.2M   75 60.7M    0     0  1775k      0  0:00:46  0:00:35  0:00:11 2405k\n",
            " 78 80.2M   78 62.7M    0     0  1783k      0  0:00:46  0:00:36  0:00:10 2293k\n",
            " 80 80.2M   80 64.8M    0     0  1792k      0  0:00:45  0:00:37  0:00:08 2156k\n",
            " 83 80.2M   83 66.9M    0     0  1803k      0  0:00:45  0:00:38  0:00:07 2125k\n",
            " 86 80.2M   86 69.1M    0     0  1813k      0  0:00:45  0:00:39  0:00:06 2103k\n",
            " 88 80.2M   88 71.2M    0     0  1823k      0  0:00:45  0:00:40  0:00:05 2160k\n",
            " 91 80.2M   91 73.2M    0     0  1824k      0  0:00:45  0:00:41  0:00:04 2118k\n",
            " 93 80.2M   93 75.0M    0     0  1828k      0  0:00:44  0:00:42  0:00:02 2096k\n",
            " 95 80.2M   95 76.9M    0     0  1830k      0  0:00:44  0:00:43  0:00:01 2036k\n",
            " 98 80.2M   98 78.9M    0     0  1835k      0  0:00:44  0:00:44 --:--:-- 2005k\n",
            "100 80.2M  100 80.2M    0     0  1834k      0  0:00:44  0:00:44 --:--:-- 1926k\n"
          ]
        },
        {
          "name": "stdout",
          "output_type": "stream",
          "text": [
            "^C\n"
          ]
        },
        {
          "name": "stderr",
          "output_type": "stream",
          "text": [
            "'rm' is not recognized as an internal or external command,\n",
            "operable program or batch file.\n"
          ]
        }
      ],
      "source": [
        "!curl -O https://ai.stanford.edu/~amaas/data/sentiment/aclImdb_v1.tar.gz\n",
        "!tar -xf aclImdb_v1.tar.gz\n",
        "!rm -r aclImdb/train/unsup"
      ]
    },
    {
      "cell_type": "markdown",
      "metadata": {
        "id": "9D6VWLGyhSCM"
      },
      "source": [
        "Przygotowanie danych"
      ]
    },
    {
      "cell_type": "code",
      "execution_count": null,
      "metadata": {
        "id": "XMcaCPKjhSCM"
      },
      "outputs": [],
      "source": [
        "import os, pathlib, shutil, random\n",
        "from tensorflow import keras\n",
        "batch_size = 32\n",
        "\n",
        "\n",
        "base_dir = pathlib.Path(\"aclImdb\")\n",
        "\n",
        "val_dir = base_dir / \"val\"\n",
        "train_dir = base_dir / \"train\"\n",
        "for category in (\"neg\", \"pos\"): # randomly splitdata into train and validation set\n",
        "    os.makedirs(val_dir / category)\n",
        "    files = os.listdir(train_dir / category)\n",
        "    random.Random(1337).shuffle(files)\n",
        "    num_val_samples = int(0.2 * len(files))\n",
        "    val_files = files[-num_val_samples:]\n",
        "    for fname in val_files:\n",
        "        shutil.move(train_dir / category / fname,\n",
        "                    val_dir / category / fname)\n"
      ]
    },
    {
      "cell_type": "code",
      "execution_count": null,
      "metadata": {
        "colab": {
          "base_uri": "https://localhost:8080/"
        },
        "id": "bzwTi8uO5c0z",
        "outputId": "a0659032-50e4-46ad-8042-42b6f4544d5e"
      },
      "outputs": [
        {
          "name": "stdout",
          "output_type": "stream",
          "text": [
            "Found 20000 files belonging to 2 classes.\n",
            "Found 5000 files belonging to 2 classes.\n",
            "Found 25000 files belonging to 2 classes.\n"
          ]
        }
      ],
      "source": [
        "\n",
        "\n",
        "# create keras datasets from files in directiories\n",
        "train_ds = keras.utils.text_dataset_from_directory(\n",
        "    \"aclImdb/train\", batch_size=batch_size\n",
        ")\n",
        "val_ds = keras.utils.text_dataset_from_directory(\n",
        "    \"aclImdb/val\", batch_size=batch_size\n",
        ")\n",
        "test_ds = keras.utils.text_dataset_from_directory(\n",
        "    \"aclImdb/test\", batch_size=batch_size\n",
        ")\n",
        "\n",
        "# potrzebne później do tworzenia  słownika\n",
        "text_only_train_ds = train_ds.map(lambda x, y: x)"
      ]
    },
    {
      "cell_type": "code",
      "execution_count": null,
      "metadata": {
        "id": "BwuhtMIc-bJP"
      },
      "outputs": [],
      "source": [
        "label_only_train_ds = train_ds.map(lambda x, y:y)"
      ]
    },
    {
      "cell_type": "code",
      "execution_count": null,
      "metadata": {
        "colab": {
          "base_uri": "https://localhost:8080/"
        },
        "id": "neKO2dsU-mbG",
        "outputId": "8b91a26b-54bb-4b8b-c8da-db1449e67470"
      },
      "outputs": [
        {
          "name": "stdout",
          "output_type": "stream",
          "text": [
            "tf.Tensor([1 1 0 1 0 1 1 0 0 1 1 0 1 1 1 1 1 1 1 1 0 0 0 0 1 1 1 1 1 1 0 1], shape=(32,), dtype=int32)\n"
          ]
        }
      ],
      "source": [
        "for t in label_only_train_ds:\n",
        "  print(t)\n",
        "  break"
      ]
    },
    {
      "cell_type": "code",
      "execution_count": null,
      "metadata": {
        "colab": {
          "base_uri": "https://localhost:8080/"
        },
        "id": "r3NJVZNo9uwR",
        "outputId": "4609fc6f-672d-4869-f618-18e21d8fe03d"
      },
      "outputs": [
        {
          "name": "stdout",
          "output_type": "stream",
          "text": [
            "tf.Tensor(b\"Enchanted April is a tone poem, an impressionist painting, a masterpiece of conveying a message with few words. It has been one of my 10 favorite films since it came out. I continue to wait, albeit less patiently, for the film to come out in DVD format. Apparently, I am not alone.<br /><br />If parent company Amazon's listings are correct, there are many people who want this title in DVD format. Many people want to go to Italy with this cast and this script. Many people want to keep a permanent copy of this film in their libraries. The cast is spectacular, the cinematography and direction impeccable. The film is a definite keeper. Many have already asked. Please add our names to the list.\", shape=(), dtype=string)\n",
            "tf.Tensor(b'In one word... abysmal. I give it one star for the hippie sex scenes and eye candy women, otherwise forget it. Corman\\'s worst effort, bar none. Ben Vereen should have had his name permanently stricken from the cast. I cannot believe that this is now going to be on DVD (as of 2/15/05) with \"Wild In The Streets\" - another retro stinker. I woke up sick in bed this morning with a cold, decided to watch a movie to cheer me up some, scanned the digital channels... the premise looked interesting enough because I like viewing B-movie sci-fi, hippie culture and rebellious teen flicks. It seemed familiar somehow and with Ben Vereen in the cast, I thought... why not? What a big mistake... it was a horrible start to my day.<br /><br />Only after viewing it, I now know why the familiarity crept into the recesses of my newly-awakened brain. I remembered seeing coming attractions for this film as a 14-year old (I\\'m 45), back in the early/mid-seventies at the Sombrero, a local art theater that no longer exists... the whole theater laughed hysterically and even groaned out loud at how bad this movie looked. Acting: dreadful, story: awful, cinematography: nearly-awful, music: terrible, sound: horrendous, directing: a joke. If you choose to watch this after my warning, remember... \"I told you so.\"<br /><br />\"Gass-s-s-s\" is the perfect title for this film... you feel \"gassed\" after viewing this putrid movie - or maybe that you should be taken to a \"gas\" chamber for wasting your brain away. I have seen homemade Super 8 movies that put this film to shame. Definitely a new addition to my all-time Top Ten WORST films... it\\'s up there (er, down there) with \"Tentacles.\" <br /><br />Ted in Gilbert, AZ', shape=(), dtype=string)\n",
            "tf.Tensor(b\"and shot in Vancouver with the 'mountains' of the low country of South Carolina visible in the background. For heaven's sake, they should have reset the location. There are no coastal mountains in South Carolina. Period.<br /><br />Lame visuals. They should have been beautiful. And the story limped along.<br /><br />I really don't understand why it was such a hit as a book, although I have to admit it's one I haven't read as yet. Usually I read the book and give the film a miss. There was nothing in this movie that made me want to buy the book, or even borrow it from the library.<br /><br />Verdict: The Mermaid Chair seemed pretty shallow to moi.\", shape=(), dtype=string)\n"
          ]
        }
      ],
      "source": [
        "for t in text_only_train_ds:\n",
        "  print(t[0])\n",
        "  print(t[1])\n",
        "  print(t[2])\n",
        "\n",
        "  break"
      ]
    },
    {
      "cell_type": "code",
      "execution_count": null,
      "metadata": {
        "colab": {
          "base_uri": "https://localhost:8080/"
        },
        "id": "KHg_eCAZj0Z-",
        "outputId": "9fa3dd02-8d70-4c4e-eb06-891b4000a3ed"
      },
      "outputs": [
        {
          "name": "stdout",
          "output_type": "stream",
          "text": [
            "Text\n",
            "tf.Tensor(b\"Dog Bite Dog isn't going to be for everyone, but I really enjoyed it. Full of slapping, stabbing and shooting (but don't worry \\xc2\\x96 the lead's a terrible shot), it can best be described as a violent romp through Hong Kong and Cambodia. Edison Cheng plays Pang, a Cambodian assassin in town to kill a barrister. Despite being filthy from his journey, he's almost immediately seated at a huge table in the middle of an obviously expensive restaurant. If this sounds wildly implausible to you, you should probably avoid this film. It acted as my cue to suspend disbelief, and I had a lot more fun for it.<br /><br />Chasing Pang down is Wai (Sam Lee), a young, edgy cop who likes to smack people around almost as much as he likes to smoke. Wai walks a fine line that has Internal Affairs investigating him, and his father, a legendary Good Cop, is in a coma following a drug deal that went south (the implication is that Wai is letting his father take the rap for his own corrupt dealings).<br /><br />There are a car crashes, lots of killings, and a strange and awkward love story on offer here, all played out in almost comic-book style. I suspect the humour was deliberate (nobody uses gargantuan concrete bludgeons without an eye for the extravagantly absurd), though the over-the-top nature lost a number of my fellow audience members. There are at least three points where the film might have ended, and at 109 mins it may have benefited from more ruthless editing, or the deletion of one of the narrative threads (the light-hearted stuff worked well, so I would have left out the interactions with the three fathers).<br /><br />I'm inclined to give it a (high) pass, however, if only because of the ending \\xc2\\x96 I've rarely heard so many people laugh so loudly at what should have been a poignant moment. This is one to see with a group of friends who love the ridiculous\", shape=(), dtype=string)\n",
            "Label\n",
            "tf.Tensor(1, shape=(), dtype=int32)\n"
          ]
        }
      ],
      "source": [
        "for text, label in train_ds:\n",
        "  print(\"Text\")\n",
        "  print(text[0])\n",
        "  print(\"Label\")\n",
        "  print(label[0])\n",
        "\n",
        "  break"
      ]
    },
    {
      "cell_type": "markdown",
      "metadata": {
        "id": "SNAJrywvhSCN"
      },
      "source": [
        "Zamień teskt na sekwencję liczb całkowitych (int)\n",
        "\n",
        "Utwórz warstwę layers.TextVectorization https://keras.io/api/layers/preprocessing_layers/core_preprocessing_layers/text_vectorization/ z conajmniej 2 argumentami\n",
        "max_tokens, output_mode (int), output_sequence_length\n",
        "\n",
        "Wywałaj metodę adapt z powyższej wastwy aby utworzyć słownik wykorzystując teksty ze zbioru treningowego. Bedzie on wykorzystywany do zamiany tekstu na integers"
      ]
    },
    {
      "cell_type": "code",
      "execution_count": null,
      "metadata": {
        "id": "cE4Z874dhSCN"
      },
      "outputs": [],
      "source": [
        "from tensorflow.keras import layers\n",
        "\n",
        "max_sequence_length = 600\n",
        "max_tokens = 20000\n",
        "text_vectorization =\n",
        "\n",
        "\n",
        "\n",
        "\n",
        "\n",
        "\n",
        "\n",
        "\n",
        "\n",
        "\n",
        "int_train_ds = train_ds.map(\n",
        "    lambda x, y: (text_vectorization(x), y),\n",
        "    num_parallel_calls=4)\n",
        "int_val_ds = val_ds.map(\n",
        "    lambda x, y: (text_vectorization(x), y),\n",
        "    num_parallel_calls=4)\n",
        "int_test_ds = test_ds.map(\n",
        "    lambda x, y: (text_vectorization(x), y),\n",
        "    num_parallel_calls=4)"
      ]
    },
    {
      "cell_type": "markdown",
      "metadata": {
        "id": "GABZ9waghSCO"
      },
      "source": [
        "Zbuduj model wykorzystując funkcyjne api\n",
        "1. Utwórz warstwę wejściową  Iinput layer)\n",
        "2. Użyj warswy tf.one_hot do zamiany sekwencji  liczb na wektory \"one-hot\".\n",
        "2. Utwórz warstwę LSTM która jako wejście przyjmuje sekwencję wektorów one-hot. Możesz dodać dwukierunkowy (bidirectional) wrapper\n",
        "3. Dodaj warstwę dropout.\n",
        "4. Ostatnia warstwa powinna być warstwą gęstą z odpowiednią do zadania funkcją aktywacji.\n",
        "5. Wytrenuj model i dokonaj ewaluacji na zbiorze testowym. Spróbuj osiągnąć minimum 85% dokładnosci na zbiorze testowym.\n"
      ]
    },
    {
      "cell_type": "code",
      "execution_count": null,
      "metadata": {
        "id": "0avIO8NDhSCO"
      },
      "outputs": [],
      "source": [
        "import tensorflow as tf\n",
        "inputs = keras.Input(shape=(None,), dtype=\"int64\")\n"
      ]
    },
    {
      "cell_type": "code",
      "execution_count": null,
      "metadata": {
        "id": "cXAW4OQ9hSCP"
      },
      "outputs": [],
      "source": [
        "\n",
        "print(f\"Test acc: {model.evaluate(int_test_ds)[1]:.3f}\")"
      ]
    }
  ],
  "metadata": {
    "accelerator": "GPU",
    "colab": {
      "collapsed_sections": [
        "uTyzGb5LrFKK"
      ],
      "provenance": [],
      "toc_visible": true
    },
    "gpuClass": "standard",
    "kernelspec": {
      "display_name": "PAD",
      "language": "python",
      "name": "python3"
    },
    "language_info": {
      "codemirror_mode": {
        "name": "ipython",
        "version": 3
      },
      "file_extension": ".py",
      "mimetype": "text/x-python",
      "name": "python",
      "nbconvert_exporter": "python",
      "pygments_lexer": "ipython3",
      "version": "3.10.4"
    },
    "vscode": {
      "interpreter": {
        "hash": "b9f784632b142558421957d14033287e602729fbcb5ff7dd2a51001edb95a0e2"
      }
    }
  },
  "nbformat": 4,
  "nbformat_minor": 0
}
